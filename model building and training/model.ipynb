{
 "cells": [
  {
   "cell_type": "code",
   "execution_count": 1,
   "metadata": {},
   "outputs": [],
   "source": [
    "import numpy as np\n",
    "from keras.models import model_from_json\n",
    "import operator\n",
    "import cv2\n",
    "import sys, os\n",
    "import matplotlib.pyplot as plt"
   ]
  },
  {
   "cell_type": "code",
   "execution_count": 2,
   "metadata": {},
   "outputs": [
    {
     "name": "stdout",
     "output_type": "stream",
     "text": [
      "Loaded model from disk\n"
     ]
    }
   ],
   "source": [
    "# Loading the model\n",
    "json_file = open(\"model-bw.json\", \"r\")\n",
    "model_json = json_file.read()\n",
    "json_file.close()\n",
    "loaded_model = model_from_json(model_json)\n",
    "# load weights into new model\n",
    "loaded_model.load_weights(\"model-bw.h5\")\n",
    "print(\"Loaded model from disk\")"
   ]
  },
  {
   "cell_type": "code",
   "execution_count": 3,
   "metadata": {},
   "outputs": [],
   "source": [
    "video_capture = cv2.VideoCapture(0)\n",
    "while True:\n",
    "    ret, frame = video_capture.read()\n",
    "    gray = cv2.cvtColor(frame, cv2.COLOR_BGR2GRAY)\n",
    "    gray = cv2.resize(gray, (150, 150))\n",
    "    gray = np.array(gray, dtype='float32')\n",
    "    gray = gray.reshape((1, 150, 150, 1))\n",
    "\n",
    "    hand_gesture = loaded_model.predict(gray)\n",
    "    \n",
    "    location = hand_gesture.argmax()\n",
    "    \n",
    "    if location == 0:\n",
    "        cv2.putText(frame, 'palm', org=(10,480), fontFace=cv2.FONT_HERSHEY_COMPLEX, fontScale=2, color=(255,210,0))\n",
    "    elif location ==1:\n",
    "        cv2.putText(frame, 'L', org=(10,480), fontFace=cv2.FONT_HERSHEY_COMPLEX, fontScale=2, color=(255,210,0))\n",
    "    elif location ==2:\n",
    "        cv2.putText(frame, 'fist', org=(10,480), fontFace=cv2.FONT_HERSHEY_COMPLEX, fontScale=2, color=(255,210,0))\n",
    "    elif location ==3:\n",
    "        cv2.putText(frame, 'first moving', org=(10,480), fontFace=cv2.FONT_HERSHEY_COMPLEX, fontScale=2, color=(255,210,0))\n",
    "    elif location ==4:\n",
    "        cv2.putText(frame, 'thumb', org=(10,480), fontFace=cv2.FONT_HERSHEY_COMPLEX, fontScale=2, color=(255,210,0))\n",
    "    elif location ==5:\n",
    "        cv2.putText(frame, 'index', org=(10,480), fontFace=cv2.FONT_HERSHEY_COMPLEX, fontScale=2, color=(255,210,0))\n",
    "    elif location ==6:\n",
    "        cv2.putText(frame, 'ok', org=(10,480), fontFace=cv2.FONT_HERSHEY_COMPLEX, fontScale=2, color=(255,210,0))\n",
    "    elif location ==7:\n",
    "        cv2.putText(frame, 'palm moving', org=(10,480), fontFace=cv2.FONT_HERSHEY_COMPLEX, fontScale=2, color=(255,210,0))\n",
    "    elif location ==8:\n",
    "        cv2.putText(frame, 'C', org=(10,480), fontFace=cv2.FONT_HERSHEY_COMPLEX, fontScale=2, color=(255,210,0))\n",
    "    elif location ==8:\n",
    "        cv2.putText(frame, 'down', org=(10,480), fontFace=cv2.FONT_HERSHEY_COMPLEX, fontScale=2, color=(255,210,0))\n",
    "    else:\n",
    "        cv2.putText(frame, 'unable to detect', org=(10,480), fontFace=cv2.FONT_HERSHEY_COMPLEX, fontScale=1, color=(255,0,0))\n",
    "    \n",
    "    cv2.imshow('Video', frame)\n",
    "    if cv2.waitKey(1) & 0xFF == ord('q'):\n",
    "        break\n",
    "\n",
    "video_capture.release()\n",
    "cv2.destroyAllWindows()"
   ]
  },
  {
   "cell_type": "code",
   "execution_count": null,
   "metadata": {},
   "outputs": [],
   "source": []
  },
  {
   "cell_type": "code",
   "execution_count": null,
   "metadata": {},
   "outputs": [],
   "source": []
  },
  {
   "cell_type": "code",
   "execution_count": null,
   "metadata": {},
   "outputs": [],
   "source": []
  }
 ],
 "metadata": {
  "kernelspec": {
   "display_name": "Python 3",
   "language": "python",
   "name": "python3"
  },
  "language_info": {
   "codemirror_mode": {
    "name": "ipython",
    "version": 3
   },
   "file_extension": ".py",
   "mimetype": "text/x-python",
   "name": "python",
   "nbconvert_exporter": "python",
   "pygments_lexer": "ipython3",
   "version": "3.7.6"
  }
 },
 "nbformat": 4,
 "nbformat_minor": 4
}
